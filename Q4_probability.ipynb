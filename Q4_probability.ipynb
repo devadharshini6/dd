{
  "nbformat": 4,
  "nbformat_minor": 0,
  "metadata": {
    "colab": {
      "provenance": []
    },
    "kernelspec": {
      "name": "python3",
      "display_name": "Python 3"
    },
    "language_info": {
      "name": "python"
    }
  },
  "cells": [
    {
      "cell_type": "code",
      "execution_count": 1,
      "metadata": {
        "id": "jir0ndZfHfI3"
      },
      "outputs": [],
      "source": [
        "import numpy as np\n",
        "from scipy import stats\n",
        "from scipy.stats import norm"
      ]
    },
    {
      "cell_type": "markdown",
      "source": [
        "#POSIBILITIES \n",
        "i)\tthere will be no investigation if the mean of the sample(X) lies between $45 and $55 ie) P(45<X<55)\n",
        "ii)\tthere will be investigation if mean of the sample (X) is less than $45 and $55  \n",
        " ie) 1- P(45<X<55)\n"
      ],
      "metadata": {
        "id": "Z7mEzg-TINlm"
      }
    },
    {
      "cell_type": "code",
      "source": [
        "#for X = 45\n",
        "z=(45-50)/(40/100**0.5)\n",
        "z"
      ],
      "metadata": {
        "colab": {
          "base_uri": "https://localhost:8080/"
        },
        "id": "roDo73T9Hghv",
        "outputId": "d9f4b9a2-a696-4876-c8dd-2722c68cdaf2"
      },
      "execution_count": 2,
      "outputs": [
        {
          "output_type": "execute_result",
          "data": {
            "text/plain": [
              "-1.25"
            ]
          },
          "metadata": {},
          "execution_count": 2
        }
      ]
    },
    {
      "cell_type": "code",
      "source": [
        "#for X = 55\n",
        "z=(55-50)/(40/100**0.5)\n",
        "z"
      ],
      "metadata": {
        "colab": {
          "base_uri": "https://localhost:8080/"
        },
        "id": "UVYBIk89Hi1j",
        "outputId": "acfc8d7a-515c-4a8c-a161-9df72dced83a"
      },
      "execution_count": 4,
      "outputs": [
        {
          "output_type": "execute_result",
          "data": {
            "text/plain": [
              "1.25"
            ]
          },
          "metadata": {},
          "execution_count": 4
        }
      ]
    },
    {
      "cell_type": "code",
      "source": [
        "#for not having investigation P(45<X<55)\n",
        "stats.norm.cdf(1.25)-stats.norm.cdf(-1.25)"
      ],
      "metadata": {
        "colab": {
          "base_uri": "https://localhost:8080/"
        },
        "id": "VmJUCsBbHqpR",
        "outputId": "15d3cafb-9d02-4b6e-fc72-2b4b30e09ce2"
      },
      "execution_count": 5,
      "outputs": [
        {
          "output_type": "execute_result",
          "data": {
            "text/plain": [
              "0.7887004526662893"
            ]
          },
          "metadata": {},
          "execution_count": 5
        }
      ]
    },
    {
      "cell_type": "code",
      "source": [
        "#for having investigation 1- P(45<X<55)\n",
        "1-0.788700\n"
      ],
      "metadata": {
        "colab": {
          "base_uri": "https://localhost:8080/"
        },
        "id": "pRnYXvMpHrUL",
        "outputId": "b0e0d557-2982-401b-d1b3-ff513e42b4f3"
      },
      "execution_count": 6,
      "outputs": [
        {
          "output_type": "execute_result",
          "data": {
            "text/plain": [
              "0.21130000000000004"
            ]
          },
          "metadata": {},
          "execution_count": 6
        }
      ]
    },
    {
      "cell_type": "code",
      "source": [],
      "metadata": {
        "id": "gEpqgeLbJmwP"
      },
      "execution_count": null,
      "outputs": []
    },
    {
      "cell_type": "markdown",
      "source": [
        "0.2113 in % is 21.13\n"
      ],
      "metadata": {
        "id": "SQpnrSbQJzlo"
      }
    },
    {
      "cell_type": "code",
      "source": [],
      "metadata": {
        "id": "1dnHmMK_J9dN"
      },
      "execution_count": null,
      "outputs": []
    }
  ]
}